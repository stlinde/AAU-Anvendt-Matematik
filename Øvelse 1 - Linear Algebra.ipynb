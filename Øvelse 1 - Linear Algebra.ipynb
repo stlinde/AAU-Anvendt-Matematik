{
 "cells": [
  {
   "cell_type": "markdown",
   "id": "c7fd0b7c-ca0a-483d-95a9-5d2e02b2529f",
   "metadata": {},
   "source": [
    "# Øvelse 1 - Linear Algebra"
   ]
  },
  {
   "cell_type": "markdown",
   "id": "02f04920-6818-4b44-8a79-dbf5ba2aba32",
   "metadata": {},
   "source": [
    "I dagens øvelse kommer vi til, at lave en gennemgang af nogle af de koncepter og metoder i har lært indtil nu.\n",
    "Dermed bliver det et recap af linear algebra delen af Anvendt Matematik."
   ]
  },
  {
   "cell_type": "markdown",
   "id": "0e549291-ca47-41b4-ad7f-29aabb371668",
   "metadata": {},
   "source": [
    "# 0 - Import"
   ]
  },
  {
   "cell_type": "code",
   "execution_count": 8,
   "id": "23027f6b-58fa-4b27-b6ca-a1d1aaea8d58",
   "metadata": {},
   "outputs": [],
   "source": [
    "import numpy as np\n",
    "from sympy import *\n",
    "from sympy.solvers.solveset import linsolve"
   ]
  },
  {
   "cell_type": "markdown",
   "id": "a561f32e-da3b-44b0-9c7a-ae6668fabc21",
   "metadata": {},
   "source": [
    "# 1 - Lønudgifter"
   ]
  },
  {
   "cell_type": "markdown",
   "id": "26402a22-5ab7-4833-bb1f-58f8ad8328ba",
   "metadata": {},
   "source": [
    "Sarah og James er ansat som konsulenter i virksomheden ABC.\n",
    "De har følgende timepriser i DKK:\n",
    "\n",
    "$$\\begin{bmatrix} 250 & 300 \\\\ 500 & 450 \\\\ 700 & 800 \\end{bmatrix}$$.\n",
    "\n",
    "Her angiver rækkerne i matricen følgende værdier:\n",
    "* Række 1: Timepris mellem 08:00 og 17:00 i hverdagene.\n",
    "* Række 2: Timepris mellem 17:00 og 08:00 i hverdagene.\n",
    "* Række 3: Timepris i weekenden. \n",
    "\n",
    "En gennemsnitlig arbejdsuge for de Sarah og James er givet ved følgende matrice:\n",
    "\n",
    "$$\\begin{bmatrix} 27 & 10 & 5 \\\\ 30 & 4 & 8 \\end{bmatrix}$$.\n",
    "\n",
    "Hvor rækkerne betegner følgende:\n",
    "* Række 1: Sarahs arbejdstid. \n",
    "* Række 2: James' arbejdstid. \n",
    "\n",
    "Og kolonnerne:\n",
    "* Kolonne 1: Arbejdstid mellem 08:00 og 17:00 i hverdagene.\n",
    "* Kolonne 2: Arbejdstid mellem 17:00 og 08:00 i hverdagene. \n",
    "* Kolonne 3: Arbejdstid i weekenden."
   ]
  },
  {
   "cell_type": "markdown",
   "id": "0564e9e3-7088-4de9-81e8-6adca61e674d",
   "metadata": {},
   "source": [
    "Du vil som omkostningsansvarlig for Sarah og James nu gerne vide følgende:\n",
    "* De samlede gennemsnitlige omkostninger om ugen til Sarah og James.\n",
    "* De samlede gennemsnitlige omkostninger om måneden til Sarah og James (antag at en måned er 52 uger / 12 måneder = 4.33 uger pr. måned). \n",
    "* De gennemsnitlige omkostninger om ugen til hhv. Sarah og James.\n",
    "* De gennemsnitlige omkostninger om måneden til hhv. Sarah og James."
   ]
  },
  {
   "cell_type": "code",
   "execution_count": 2,
   "id": "47d45ed2-dd6b-4158-8297-32178ee9e4fe",
   "metadata": {},
   "outputs": [],
   "source": [
    "# 1.1 - Definer de nødvendige matricer\n"
   ]
  },
  {
   "cell_type": "code",
   "execution_count": 3,
   "id": "b9586555-f8f3-432f-8f65-8aa90332fb84",
   "metadata": {},
   "outputs": [],
   "source": [
    "# 1.2 - Beregn de gennemsnitlige omkostninger til Sarah om ugen\n"
   ]
  },
  {
   "cell_type": "code",
   "execution_count": 4,
   "id": "a38b215f-5359-4561-8d6a-34d9978b457f",
   "metadata": {},
   "outputs": [],
   "source": [
    "# 1.3 - Beregn de gennemsnitlige omkostninger til James om ugen \n"
   ]
  },
  {
   "cell_type": "code",
   "execution_count": 5,
   "id": "fcbe0989-14cc-4ad6-b14c-3035b4ef6ffa",
   "metadata": {},
   "outputs": [],
   "source": [
    "# 1.4 - Beregn de samlede omkostninger pr. uge.\n"
   ]
  },
  {
   "cell_type": "code",
   "execution_count": 6,
   "id": "03a5b974-5dc1-425c-b093-794b1edd7593",
   "metadata": {},
   "outputs": [],
   "source": [
    "# 1.5 - Konverter matricen arbejdstid fra gns. arbejdstid pr. uge til gns. arbejdstid pr. måned:\n"
   ]
  },
  {
   "cell_type": "code",
   "execution_count": 7,
   "id": "3388e083-81eb-4d9d-8936-67b16c150f11",
   "metadata": {},
   "outputs": [],
   "source": [
    "# 1.7 - Beregn de gennemsnitlige omkostninger til Sarah om måneden\n"
   ]
  },
  {
   "cell_type": "code",
   "execution_count": 8,
   "id": "f7095520-9903-4f8c-9441-4efaa5e5df24",
   "metadata": {},
   "outputs": [],
   "source": [
    "# 1.8 - Beregn de gennemsnitlige omkostninger til James om måneden\n"
   ]
  },
  {
   "cell_type": "code",
   "execution_count": 9,
   "id": "21cd7fcb-4468-4ef4-b3f4-2c2ef8e3286f",
   "metadata": {},
   "outputs": [],
   "source": [
    "# 1.9 - Beregn de samlede omkostninger pr. måned\n"
   ]
  },
  {
   "cell_type": "markdown",
   "id": "2821664a-a3ea-46be-be08-9b4f5399d174",
   "metadata": {},
   "source": [
    "James har et ønske om, at gå 25 % ned i timer. For at kompensere for dette, ser du som leder for de to konsulenter, at Sarah er nødt til at gå 35 % op i timer pr. måned, hvilket hun har indvilliget i.\n",
    "Hvordan vil dette påvirke de samlede omkostninger pr. måned?\n",
    "Hvordan vil dette påvirke de samlede omkostninger til hhv. Sarah og James pr. uge?"
   ]
  },
  {
   "cell_type": "code",
   "execution_count": 10,
   "id": "a0fe5b3b-67c4-441b-a48c-705dcda09c41",
   "metadata": {},
   "outputs": [],
   "source": [
    "# 1.10 - Justér den månedlige arbejdstid, så James har 25 % færre timer og Sarah har 35 % flere timer\n"
   ]
  },
  {
   "cell_type": "code",
   "execution_count": 11,
   "id": "0830e8f7-481f-4e88-aafd-0c40b21e501a",
   "metadata": {},
   "outputs": [],
   "source": [
    "# 1.11 - Beregn de samlede omkostninger pr. måned\n"
   ]
  },
  {
   "cell_type": "code",
   "execution_count": 12,
   "id": "db41ad27-d8e7-42bf-b83e-96631b007c9c",
   "metadata": {},
   "outputs": [],
   "source": [
    "# 1.12 - Justér den ugentlige arbejdstid, så James har 25 % færre timer og Sarah har 35 % flere timer.\n"
   ]
  },
  {
   "cell_type": "code",
   "execution_count": 13,
   "id": "a501661b-0add-4ddd-8624-3cb8e1656671",
   "metadata": {},
   "outputs": [],
   "source": [
    "# 1.13 - Beregn omkostningerne til Sarah pr. uge\n"
   ]
  },
  {
   "cell_type": "code",
   "execution_count": 14,
   "id": "2fb7ae59-5121-449a-aa46-c934e8a28c3e",
   "metadata": {},
   "outputs": [],
   "source": [
    "# 1.14 - Beregn omkostningerne til James pr. ugen \n"
   ]
  },
  {
   "cell_type": "markdown",
   "id": "a71cf5a4-6c85-478c-805d-69cd24f8363d",
   "metadata": {},
   "source": [
    "# 2 - Lineære Ligningssystemer"
   ]
  },
  {
   "cell_type": "markdown",
   "id": "0448b9b2-61d0-4c35-aa09-f399ea5917d1",
   "metadata": {},
   "source": [
    "I del 2 er fokus på løsning af lineære ligningssystemer.\n",
    "Vi kommer til at arbejde med række echelon form, løsning via invers matrix, samt bruge sympy til, at tjekke vores løsninger.\n",
    "\n",
    "I første del er i givet flg. lineære ligningssystem:\n",
    "\n",
    "$$2x + y - 2z = 3 \\\\ x - y - z = 0 \\\\ x + y + 3z = 12 $$\n",
    "\n",
    "Ligningssystemet kan også skrives som en matrix $A$ og to vektorer $\\overrightarrow{x}. \\overrightarrow{b}$:\n",
    "$$\\begin{bmatrix} 2 & 1 & -2 \\\\ 1 & -1 & -1 \\\\ 1 & 1 & 3 \\end{bmatrix} \\begin{bmatrix} x \\\\ y \\\\ z \\end{bmatrix} = \\begin{bmatrix} 3 \\\\ 0 \\\\ 12 \\end{bmatrix}$$.\n",
    "\n",
    "Eller som en augmented matrix:\n",
    "$$\n",
    "\\left[\\begin{array}{rrr|r}\n",
    "2 & 1 & -2 & 3 \\\\ \n",
    "1 & -1 & -1 & 0 \\\\\n",
    "1 & 1 & 3 & 12\n",
    "\\end{array}\\right]\n",
    "$$"
   ]
  },
  {
   "cell_type": "code",
   "execution_count": 113,
   "id": "943f22e9-cb41-465c-92bd-2dc62bd0a526",
   "metadata": {},
   "outputs": [],
   "source": [
    "# 2.1 - Definer ligningssystemet som matricen A og vektoren b\n"
   ]
  },
  {
   "cell_type": "code",
   "execution_count": 114,
   "id": "0b4d37fb-a6ff-4187-8665-d7a68b50cf44",
   "metadata": {},
   "outputs": [],
   "source": [
    "# 2.2 - Beregn den inverse matrix af A og gem den som en variable\n"
   ]
  },
  {
   "cell_type": "code",
   "execution_count": 115,
   "id": "9ac0dbe0-84bd-4b12-9731-eaff1ddaa0a8",
   "metadata": {},
   "outputs": [],
   "source": [
    "# 2.3 - Find løsningen til det lineære ligningssystem\n"
   ]
  },
  {
   "cell_type": "code",
   "execution_count": 116,
   "id": "f6e6bb8c-f84c-4fc5-be27-232702ea100c",
   "metadata": {},
   "outputs": [],
   "source": [
    "# 2.4 - Tjek den ovenstående løsning vha. sympy\n"
   ]
  },
  {
   "cell_type": "markdown",
   "id": "3afd14f1-2167-42c5-b680-cd60e172b04f",
   "metadata": {},
   "source": [
    "I denne del er i givet flg. lineære ligningssystem:\n",
    "$$x_1 - 2x_2 + x_3 = 2 \\\\ 2x_1 - 4x_2 + 3x_3 = 7 \\\\ -x_1 + 2x_2 =1$$\n",
    "\n",
    "Ligningssystemet kan også skrives som en matrix og to vektorer:\n",
    "$$\\begin{bmatrix} 1 & -2 & 1 \\\\ 2 & -4 & 3 \\\\ -1 & 2 & 0 \\end{bmatrix} \\begin{bmatrix} x_1 \\\\ x_2 \\\\ x_3 \\end{bmatrix} = \\begin{bmatrix} 2 \\\\ 7 \\\\ 1 \\end{bmatrix} $$.\n",
    "\n",
    "Eller som en augmented matrix:\n",
    "$$\n",
    "\\left[\\begin{array}{rrr|r}\n",
    "1 & -2 & 1 & 2 \\\\ \n",
    "2 & -4 & 3 & 7 \\\\\n",
    "-1 & 2 & 0 & 1\n",
    "\\end{array}\\right]\n",
    "$$"
   ]
  },
  {
   "cell_type": "code",
   "execution_count": 119,
   "id": "cd19e25e-b351-4199-a884-7e17c64fa43a",
   "metadata": {},
   "outputs": [],
   "source": [
    "# 2.5 - Definer ligningssystemet som en augmented matrix\n"
   ]
  },
  {
   "cell_type": "code",
   "execution_count": 15,
   "id": "8f6ca43a-adbc-4bd6-81ec-3f1fb948869b",
   "metadata": {},
   "outputs": [],
   "source": [
    "# 2.6 - Løs ligningssystemet ved at omskrive til række echelon form. \n"
   ]
  },
  {
   "cell_type": "markdown",
   "id": "5e377cbd-b08d-4ea2-80c9-7aebc6b241d7",
   "metadata": {},
   "source": [
    "*2.7 - Opskriv og test mindst én vallid løsning*"
   ]
  },
  {
   "cell_type": "code",
   "execution_count": 117,
   "id": "29011cb5-0b65-4934-af30-2ad86f0fb99c",
   "metadata": {},
   "outputs": [],
   "source": [
    "# 2.8 - Definer ligningssystemet som matricen A og vektoren b\n"
   ]
  },
  {
   "cell_type": "code",
   "execution_count": 121,
   "id": "6a5aec93-a23e-4a0c-ad3c-9ae804f106eb",
   "metadata": {},
   "outputs": [],
   "source": [
    "# 2.9 - Beregn løsningen til ligningssystemet vha. A^-1 (den inverse matrice af A)\n"
   ]
  },
  {
   "cell_type": "code",
   "execution_count": null,
   "id": "4257c1bb-3559-41cd-afb3-7edaf3af8e32",
   "metadata": {},
   "outputs": [],
   "source": []
  },
  {
   "cell_type": "markdown",
   "id": "7c6e60ce-245d-4bb7-886a-1fa97a406931",
   "metadata": {},
   "source": [
    "*2.10 - Hvilket resultat får vi vha. denne løsningsmetode?\n",
    "        Hvorfor får vi dette resultat?*"
   ]
  },
  {
   "cell_type": "code",
   "execution_count": 122,
   "id": "d657e9c7-b05d-40d8-a727-f3ac8659d2b5",
   "metadata": {},
   "outputs": [],
   "source": [
    "# 2.9 - Check løsningen vha. sympy\n"
   ]
  },
  {
   "cell_type": "markdown",
   "id": "7709b08d-1405-49c7-9f4f-30450641ade6",
   "metadata": {},
   "source": [
    "*2.10 - Hvad fortæller løsningen os om ligningssystemet?*"
   ]
  }
 ],
 "metadata": {
  "kernelspec": {
   "display_name": "Python 3 (ipykernel)",
   "language": "python",
   "name": "python3"
  },
  "language_info": {
   "codemirror_mode": {
    "name": "ipython",
    "version": 3
   },
   "file_extension": ".py",
   "mimetype": "text/x-python",
   "name": "python",
   "nbconvert_exporter": "python",
   "pygments_lexer": "ipython3",
   "version": "3.9.7"
  }
 },
 "nbformat": 4,
 "nbformat_minor": 5
}
