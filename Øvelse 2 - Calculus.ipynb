{
 "cells": [
  {
   "cell_type": "markdown",
   "id": "63da89ad-441f-4a32-9e05-e3a66cfcd697",
   "metadata": {},
   "source": [
    "# Øvelse 2 - Calculus"
   ]
  },
  {
   "cell_type": "code",
   "execution_count": 32,
   "id": "040e5f77-da64-4b17-8275-a373d6c64aba",
   "metadata": {},
   "outputs": [],
   "source": [
    "# Importing necessary libraries\n",
    "import numpy as np\n",
    "import matplotlib.pyplot as plt\n",
    "import sympy"
   ]
  },
  {
   "cell_type": "markdown",
   "id": "47df4010-28ff-40b7-bcac-b115fb77c4c5",
   "metadata": {},
   "source": [
    "## Del I - Reklameomkostninger og indtægter"
   ]
  },
  {
   "cell_type": "markdown",
   "id": "b02c9088-3e69-4a3f-81a1-36e6bb967b67",
   "metadata": {},
   "source": [
    "I den første del af opgavesættet skal vi arbejde med to ligninger som beskriver omkostninger og indtægter som følge af reklamering for virksomheden ABC.\n",
    "På baggrund af data som virksomheden ABC har indsamlet fra tidligere marketing indsatser, kan det ses at der er følgende udgifter og indtægter forbundet med en reklame kampagne:\n",
    "\n",
    "$$C(x) = 900 + 200x - \\frac{1}{2}x^2$$\n",
    "\n",
    "$$R(x) = 600x - 3x^2$$\n",
    "\n",
    "Her er $C(x)$ omkostningerne ved reklamering og $R(x)$ er indtægter som følge af reklamering.\n",
    "Den profit som genereres som følge af reklameringen er udtrykt ved flg. funktion:\n",
    "$$P(x) = C(x) - R(x)$$\n",
    "\n",
    "Vores mål er, at udregne den optimale investering i reklamer for at maksimere profitten.\n",
    "Derudover, vil vi gerne kunne sige mere om forholdet mellem investering og de omkostninger og indtægter der er ved reklamering."
   ]
  },
  {
   "cell_type": "markdown",
   "id": "5cd9aea6-fbcf-45d5-9cc0-4f40329d2039",
   "metadata": {},
   "source": [
    "*I.1 - Hvad kan der siges om forholdet mellem investering i reklamer og de udgifter der er der ved?* \n",
    "SVAR:"
   ]
  },
  {
   "cell_type": "markdown",
   "id": "790396dd-e3dc-4298-befc-2ab3dc5a551d",
   "metadata": {},
   "source": [
    "*I.2 - Fortolk de tre dele af udgiftsfunktionen C(x), hvad betyder de og hvordan påvirker de omkostningerne?*\n",
    "SVAR:"
   ]
  },
  {
   "cell_type": "markdown",
   "id": "ae3b07c6-18d4-4b5f-b87e-b985c7ecb832",
   "metadata": {},
   "source": [
    "*I.3 - Hvad kan der siges om forholdet mellem investering i reklamer og indtægterne derved?*\n",
    "SVAR:"
   ]
  },
  {
   "cell_type": "markdown",
   "id": "84f5b9f1-28e2-4e54-9ef9-fc14a1d35bb6",
   "metadata": {},
   "source": [
    "*I.4 - Fortolk de to dele af indtægtsfunktionen R(x), hvad betyder de og hvordan påvirker de indtægterne?*\n",
    "SVAR:"
   ]
  },
  {
   "cell_type": "code",
   "execution_count": 30,
   "id": "ae72d546-1d2e-4f1c-a437-80787d69c3d2",
   "metadata": {},
   "outputs": [],
   "source": [
    "# I.5 - Plot de to funktioner mellem x = 0 og x = 150\n"
   ]
  },
  {
   "cell_type": "markdown",
   "id": "c68314b5-8666-4d72-9049-27b31eb612fb",
   "metadata": {},
   "source": [
    "*I.6 - Hvad kan i sige ud fra graferne af de to funktioner?*\n",
    "SVAR:"
   ]
  },
  {
   "cell_type": "code",
   "execution_count": 34,
   "id": "3e4635ce-bdd5-4a37-a64c-48849b9288ae",
   "metadata": {},
   "outputs": [],
   "source": [
    "# I.7 - Opstil og definer funtionen P(x) i som variable og i symPy\n",
    "# Brug x0 som jeres symPy symbol\n"
   ]
  },
  {
   "cell_type": "code",
   "execution_count": 40,
   "id": "8ee4eb1f-0513-4c85-a1af-373374713a48",
   "metadata": {},
   "outputs": [],
   "source": [
    "# I.8 - Plot P(x) sammen med R(x) og C(x)\n",
    "# Brug samme range som i det førstew plot. \n"
   ]
  },
  {
   "cell_type": "markdown",
   "id": "d9721c91-1f6e-416a-944b-eb5b1217392e",
   "metadata": {},
   "source": [
    "*I.9 - Hvad kan i sige omkring profitfunktionen ud fra plottet?* \n",
    "SVAR:"
   ]
  },
  {
   "cell_type": "code",
   "execution_count": 41,
   "id": "9d986a70-28bf-4f92-8050-018c6b7bab8d",
   "metadata": {},
   "outputs": [],
   "source": [
    "# I.10 - Brug SymPY til at simplificere profitfunktionen\n",
    "# Her kan funktionen sympy.simplify() bruges\n"
   ]
  },
  {
   "cell_type": "markdown",
   "id": "ad8ca7a1-b04f-4eb2-993e-542c9317a8cd",
   "metadata": {},
   "source": [
    "*I.11 - Fortolk den simplificerede profitfunktion.* \n",
    "SVAR:"
   ]
  },
  {
   "cell_type": "code",
   "execution_count": 42,
   "id": "ccd7a7e1-badc-421f-ab21-c4fd2ba04fec",
   "metadata": {},
   "outputs": [],
   "source": [
    "# I.12 - Brug SymPy til at differentiere profitfunktionen\n"
   ]
  },
  {
   "cell_type": "markdown",
   "id": "9a96342d-406c-4f4c-b8d1-bb49be8c7c03",
   "metadata": {},
   "source": [
    "*I.13 - Hvor stor skal investeringen i reklamer være for, at maksimere profitten.* \n",
    "SVAR:"
   ]
  },
  {
   "cell_type": "markdown",
   "id": "641a6109-3dc2-40eb-9cb0-153829f31b4b",
   "metadata": {},
   "source": [
    "## Del II - Ekstreme værdier"
   ]
  },
  {
   "cell_type": "markdown",
   "id": "8aef34b8-271c-49e5-9f78-b4e8b2ef08d8",
   "metadata": {},
   "source": [
    "I denne del af opgaven kommer vi til at arbejde med flg. funktion:\n",
    "$$ f(x) = \\frac{1}{3}x^3 + \\frac{7}{2}x^2 - 4*x + 10$$\n",
    "\n",
    "Målet i denne del er at analysere funktionen og finde ekstreme værdier."
   ]
  },
  {
   "cell_type": "code",
   "execution_count": 68,
   "id": "391e7037-b309-4770-b514-49b67ebae30c",
   "metadata": {},
   "outputs": [],
   "source": [
    "# II.1 - Definer funktionen som en variable y og som en SymPy funktion fx.\n"
   ]
  },
  {
   "cell_type": "markdown",
   "id": "4a18305a-9df3-480a-abde-d4b661253245",
   "metadata": {},
   "source": [
    "*II.2 - Fortolk funktionen, hvad kan vi sige om funktionen?*\n",
    "SVAR:"
   ]
  },
  {
   "cell_type": "code",
   "execution_count": 69,
   "id": "f1b89ab2-bfe5-4a8d-befc-df01d7c97cf4",
   "metadata": {},
   "outputs": [],
   "source": [
    "# II.3 - Differentier funktionen vha. SymPy\n"
   ]
  },
  {
   "cell_type": "markdown",
   "id": "7992f210-4abe-4b60-a7a8-0a0ed68e871e",
   "metadata": {},
   "source": [
    "*II.4 - Hvilken ny information giver den afledte funktion $f'(x)$?*\n",
    "SVAR:"
   ]
  },
  {
   "cell_type": "code",
   "execution_count": 70,
   "id": "c1b4c1e7-81dc-442a-bb3b-49997fe7bda2",
   "metadata": {},
   "outputs": [],
   "source": [
    "# II.5 - Find de eksteme værdier vha. SymPy\n"
   ]
  },
  {
   "cell_type": "code",
   "execution_count": 71,
   "id": "20587707-bc6b-4c29-bbf1-857fb53b57bf",
   "metadata": {},
   "outputs": [],
   "source": [
    "# II.6 - Beregn f(x) for de x-værdierne fundet i II.5"
   ]
  },
  {
   "cell_type": "markdown",
   "id": "a4923738-8d75-46ab-91bf-84c7c63cbe9c",
   "metadata": {},
   "source": [
    "*II.7 - Hvad kan vi sige ud fra de ekstreme værdier?*\n",
    "SVAR:"
   ]
  },
  {
   "cell_type": "markdown",
   "id": "f0c55599-4b18-4a23-95c7-11dc64a66f3d",
   "metadata": {},
   "source": [
    "Når vi kender de ekstreme værdier ved vi hvor funktionen \"vender\", men de fortæller ikke noget om hvordan funktionen bevæger sig før og efter de ekstreme værdier.\n",
    "Her er differentialregning igen et godt redskab. \n",
    "Vi kender den afledte $f'(x)$ som fortæller os noget om hvordan hældningen på funktionen er i en given x-værdi.\n",
    "Dette kan vi bruge til, at finde ud af mere omkring funktionen.\n",
    "Hvis vi beregner værdien af den afledte $f'(x)$ for x-værdier imellem de ekstreme værdier, så kan vi sige noget om hvordan funktionen bevæger sig."
   ]
  },
  {
   "cell_type": "code",
   "execution_count": 73,
   "id": "16668976-714b-4d9b-a199-95866ebef4b5",
   "metadata": {},
   "outputs": [],
   "source": [
    "# II.8 - Beregn f'(x) for flg. tre x-værdier:\n",
    "# Første x-værdi skal være mindre end den x-værdi der er for den laveste ekstreme værdi.\n",
    "# Anden x-værdi skal være mellem x-værdien for den første ekstreme værdi og x-værdien for den anden ekstreme værdi.\n",
    "# Tredje x-værdi skal være højere end x-værdien for den største ekstreme værdi.\n"
   ]
  },
  {
   "cell_type": "markdown",
   "id": "6543f9aa-153f-478d-93bf-4a016cbb30d5",
   "metadata": {},
   "source": [
    "*II.9 - Hvad kan vi sige om funktionen ud fra de ovenstående beregninger?*\n",
    "SVAR:"
   ]
  },
  {
   "cell_type": "code",
   "execution_count": 74,
   "id": "b11c5a33-f1c5-4245-8482-7d86f3e97688",
   "metadata": {},
   "outputs": [],
   "source": [
    "# II.10 - Plot funktionen f(x) mellem x=-15 og x=15"
   ]
  },
  {
   "cell_type": "markdown",
   "id": "badfe98e-3954-4493-b3ef-ec9719ff591d",
   "metadata": {},
   "source": [
    "*II.11 - Er grafen for funktionen f(x) i overensstemmelse med jeres ovenstående analyse?"
   ]
  }
 ],
 "metadata": {
  "kernelspec": {
   "display_name": "Python 3 (ipykernel)",
   "language": "python",
   "name": "python3"
  },
  "language_info": {
   "codemirror_mode": {
    "name": "ipython",
    "version": 3
   },
   "file_extension": ".py",
   "mimetype": "text/x-python",
   "name": "python",
   "nbconvert_exporter": "python",
   "pygments_lexer": "ipython3",
   "version": "3.9.7"
  }
 },
 "nbformat": 4,
 "nbformat_minor": 5
}
