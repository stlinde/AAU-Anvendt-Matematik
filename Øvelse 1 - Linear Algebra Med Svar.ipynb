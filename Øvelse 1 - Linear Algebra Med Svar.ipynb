{
 "cells": [
  {
   "cell_type": "markdown",
   "id": "c7fd0b7c-ca0a-483d-95a9-5d2e02b2529f",
   "metadata": {},
   "source": [
    "# Øvelse 1 - Linear Algebra"
   ]
  },
  {
   "cell_type": "markdown",
   "id": "02f04920-6818-4b44-8a79-dbf5ba2aba32",
   "metadata": {},
   "source": [
    "I dagens øvelse kommer vi til, at lave en gennemgang af nogle af de koncepter og metoder i har lært indtil nu.\n",
    "Dermed bliver det et recap af linear algebra delen af Anvendt Matematik."
   ]
  },
  {
   "cell_type": "markdown",
   "id": "0e549291-ca47-41b4-ad7f-29aabb371668",
   "metadata": {
    "jupyter": {
     "source_hidden": true
    },
    "tags": []
   },
   "source": [
    "# 0 - Import"
   ]
  },
  {
   "cell_type": "code",
   "execution_count": 13,
   "id": "23027f6b-58fa-4b27-b6ca-a1d1aaea8d58",
   "metadata": {},
   "outputs": [],
   "source": [
    "import numpy as np\n",
    "from sympy import *\n",
    "from scipy import linalg\n",
    "from sympy.solvers.solveset import linsolve"
   ]
  },
  {
   "cell_type": "markdown",
   "id": "a561f32e-da3b-44b0-9c7a-ae6668fabc21",
   "metadata": {},
   "source": [
    "# 1 - Lønudgifter"
   ]
  },
  {
   "cell_type": "markdown",
   "id": "26402a22-5ab7-4833-bb1f-58f8ad8328ba",
   "metadata": {},
   "source": [
    "Sarah og James er ansat som konsulenter i virksomheden ABC.\n",
    "De har følgende timepriser i DKK:\n",
    "\n",
    "$$\\begin{bmatrix} 250 & 300 \\\\ 500 & 450 \\\\ 700 & 800 \\end{bmatrix}$$.\n",
    "\n",
    "Her angiver rækkerne i matricen følgende værdier:\n",
    "* Række 1: Timepris mellem 08:00 og 17:00 i hverdagene.\n",
    "* Række 2: Timepris mellem 17:00 og 08:00 i hverdagene.\n",
    "* Række 3: Timepris i weekenden. \n",
    "\n",
    "En gennemsnitlig arbejdsuge for de Sarah og James er givet ved følgende matrice:\n",
    "\n",
    "$$\\begin{bmatrix} 27 & 10 & 5 \\\\ 30 & 4 & 8 \\end{bmatrix}$$.\n",
    "\n",
    "Hvor rækkerne betegner følgende:\n",
    "* Række 1: Sarahs arbejdstid. \n",
    "* Række 2: James' arbejdstid. \n",
    "\n",
    "Og kolonnerne:\n",
    "* Kolonne 1: Arbejdstid mellem 08:00 og 17:00 i hverdagene.\n",
    "* Kolonne 2: Arbejdstid mellem 17:00 og 08:00 i hverdagene. \n",
    "* Kolonne 3: Arbejdstid i weekenden."
   ]
  },
  {
   "cell_type": "markdown",
   "id": "0564e9e3-7088-4de9-81e8-6adca61e674d",
   "metadata": {},
   "source": [
    "Du vil som omkostningsansvarlig for Sarah og James nu gerne vide følgende:\n",
    "* De samlede gennemsnitlige omkostninger om ugen til Sarah og James.\n",
    "* De samlede gennemsnitlige omkostninger om måneden til Sarah og James (antag at en måned er 52 uger / 12 måneder = 4.33 uger pr. måned). \n",
    "* De gennemsnitlige omkostninger om ugen til hhv. Sarah og James.\n",
    "* De gennemsnitlige omkostninger om måneden til hhv. Sarah og James."
   ]
  },
  {
   "cell_type": "code",
   "execution_count": 79,
   "id": "47d45ed2-dd6b-4158-8297-32178ee9e4fe",
   "metadata": {},
   "outputs": [],
   "source": [
    "# 1.1 - Definer de nødvendige matricer\n",
    "timepris = np.array([\n",
    "    [250, 300],\n",
    "    [500, 450],\n",
    "    [700, 800]\n",
    "], dtype=np.float32)\n",
    "\n",
    "arbejdstid = np.array([\n",
    "    [27, 10, 5],\n",
    "    [30, 4, 8]\n",
    "], dtype=np.float32)"
   ]
  },
  {
   "cell_type": "code",
   "execution_count": 56,
   "id": "b9586555-f8f3-432f-8f65-8aa90332fb84",
   "metadata": {},
   "outputs": [
    {
     "data": {
      "text/plain": [
       "15250.0"
      ]
     },
     "execution_count": 56,
     "metadata": {},
     "output_type": "execute_result"
    }
   ],
   "source": [
    "# 1.2 - Beregn de gennemsnitlige omkostninger til Sarah om ugen\n",
    "sarah_uge = timepris[:, 0] @ arbejdstid[0]\n",
    "sarah_uge"
   ]
  },
  {
   "cell_type": "code",
   "execution_count": 57,
   "id": "a38b215f-5359-4561-8d6a-34d9978b457f",
   "metadata": {},
   "outputs": [
    {
     "data": {
      "text/plain": [
       "17200.0"
      ]
     },
     "execution_count": 57,
     "metadata": {},
     "output_type": "execute_result"
    }
   ],
   "source": [
    "# 1.3 - Beregn de gennemsnitlige omkostninger til James om ugen \n",
    "james_uge = timepris[:, 1] @ arbejdstid[1]\n",
    "james_uge"
   ]
  },
  {
   "cell_type": "code",
   "execution_count": 123,
   "id": "fcbe0989-14cc-4ad6-b14c-3035b4ef6ffa",
   "metadata": {},
   "outputs": [
    {
     "data": {
      "text/plain": [
       "32450.0"
      ]
     },
     "execution_count": 123,
     "metadata": {},
     "output_type": "execute_result"
    }
   ],
   "source": [
    "# 1.4 - Beregn de samlede omkostninger pr. uge.\n",
    "saml_omkostninger = sum((arbejdstid @ timepris).diagonal())\n",
    "saml_omkostninger"
   ]
  },
  {
   "cell_type": "code",
   "execution_count": 125,
   "id": "a3a5c9ad-d752-4935-8ed7-2caf7c6b65f4",
   "metadata": {},
   "outputs": [
    {
     "data": {
      "text/plain": [
       "array([15250., 17200.], dtype=float32)"
      ]
     },
     "execution_count": 125,
     "metadata": {},
     "output_type": "execute_result"
    }
   ],
   "source": [
    "(arbejdstid @ timepris).diagonal()"
   ]
  },
  {
   "cell_type": "code",
   "execution_count": 126,
   "id": "03a5b974-5dc1-425c-b093-794b1edd7593",
   "metadata": {},
   "outputs": [
    {
     "data": {
      "text/plain": [
       "array([[117.00001 ,  43.333336,  21.666668],\n",
       "       [130.      ,  17.333334,  34.666668]], dtype=float32)"
      ]
     },
     "execution_count": 126,
     "metadata": {},
     "output_type": "execute_result"
    }
   ],
   "source": [
    "# 1.5 - Konverter matricen arbejdstid fra gns. arbejdstid pr. uge til gns. arbejdstid pr. måned:\n",
    "arbejdstid_måned = (52 / 12) * arbejdstid\n",
    "arbejdstid_måned"
   ]
  },
  {
   "cell_type": "code",
   "execution_count": 60,
   "id": "3388e083-81eb-4d9d-8936-67b16c150f11",
   "metadata": {},
   "outputs": [
    {
     "data": {
      "text/plain": [
       "66083.34"
      ]
     },
     "execution_count": 60,
     "metadata": {},
     "output_type": "execute_result"
    }
   ],
   "source": [
    "# 1.7 - Beregn de gennemsnitlige omkostninger til Sarah om måneden\n",
    "sarah_måned = timepris[:, 0] @ arbejdstid_måned[0]\n",
    "sarah_måned"
   ]
  },
  {
   "cell_type": "code",
   "execution_count": 39,
   "id": "f7095520-9903-4f8c-9441-4efaa5e5df24",
   "metadata": {},
   "outputs": [
    {
     "data": {
      "text/plain": [
       "74533.336"
      ]
     },
     "execution_count": 39,
     "metadata": {},
     "output_type": "execute_result"
    }
   ],
   "source": [
    "# 1.8 - Beregn de gennemsnitlige omkostninger til James om måneden\n",
    "james_måned = timepris[:, 1] @ arbejdstid_måned[1]\n",
    "james_måned"
   ]
  },
  {
   "cell_type": "code",
   "execution_count": 84,
   "id": "21cd7fcb-4468-4ef4-b3f4-2c2ef8e3286f",
   "metadata": {},
   "outputs": [
    {
     "data": {
      "text/plain": [
       "140616.671875"
      ]
     },
     "execution_count": 84,
     "metadata": {},
     "output_type": "execute_result"
    }
   ],
   "source": [
    "# 1.9 - Beregn de samlede omkostninger pr. måned\n",
    "saml_måned = sum((arbejdstid_måned @ timepris).diagonal())\n",
    "saml_måned"
   ]
  },
  {
   "cell_type": "markdown",
   "id": "2821664a-a3ea-46be-be08-9b4f5399d174",
   "metadata": {},
   "source": [
    "James har et ønske om, at gå 25 % ned i timer. For at kompensere for dette, ser du som leder for de to konsulenter, at Sarah er nødt til at gå 35 % op i timer pr. måned, hvilket hun har indvilliget i.\n",
    "Hvordan vil dette påvirke de samlede omkostninger pr. måned?\n",
    "Hvordan vil dette påvirke de samlede omkostninger til hhv. Sarah og James pr. uge?"
   ]
  },
  {
   "cell_type": "code",
   "execution_count": 85,
   "id": "a0fe5b3b-67c4-441b-a48c-705dcda09c41",
   "metadata": {},
   "outputs": [],
   "source": [
    "# 1.10 - Justér den månedlige arbejdstid, så James har 25 % færre timer og Sarah har 35 % flere timer\n",
    "arbejdstid_måned[0] = arbejdstid_måned[0] * 1.35\n",
    "arbejdstid_måned[1] = arbejdstid_måned[1] * 0.75"
   ]
  },
  {
   "cell_type": "code",
   "execution_count": null,
   "id": "ea0bd166-86fb-4574-a6f4-fc42eb297558",
   "metadata": {},
   "outputs": [],
   "source": [
    "arbejdstid_måned"
   ]
  },
  {
   "cell_type": "code",
   "execution_count": 87,
   "id": "0830e8f7-481f-4e88-aafd-0c40b21e501a",
   "metadata": {},
   "outputs": [
    {
     "data": {
      "text/plain": [
       "145112.5078125"
      ]
     },
     "execution_count": 87,
     "metadata": {},
     "output_type": "execute_result"
    }
   ],
   "source": [
    "# 1.11 - Beregn de samlede omkostninger pr. måned\n",
    "saml_måned = sum((arbejdstid_måned @ timepris).diagonal())\n",
    "saml_måned"
   ]
  },
  {
   "cell_type": "code",
   "execution_count": 66,
   "id": "db41ad27-d8e7-42bf-b83e-96631b007c9c",
   "metadata": {},
   "outputs": [],
   "source": [
    "# 1.12 - Justér den ugentlige arbejdstid, så James har 25 % færre timer og Sarah har 35 % flere timer.\n",
    "arbejdstid[0] = arbejdstid[0] * 1.35\n",
    "arbejdstid[1] = arbejdstid[1] * 0.75"
   ]
  },
  {
   "cell_type": "code",
   "execution_count": 67,
   "id": "a501661b-0add-4ddd-8624-3cb8e1656671",
   "metadata": {},
   "outputs": [
    {
     "data": {
      "text/plain": [
       "20587.5"
      ]
     },
     "execution_count": 67,
     "metadata": {},
     "output_type": "execute_result"
    }
   ],
   "source": [
    "# 1.13 - Beregn omkostningerne til Sarah pr. uge\n",
    "sarah_uge = timepris[:, 0] @ arbejdstid[0]\n",
    "sarah_uge"
   ]
  },
  {
   "cell_type": "code",
   "execution_count": 68,
   "id": "2fb7ae59-5121-449a-aa46-c934e8a28c3e",
   "metadata": {},
   "outputs": [
    {
     "data": {
      "text/plain": [
       "12900.0"
      ]
     },
     "execution_count": 68,
     "metadata": {},
     "output_type": "execute_result"
    }
   ],
   "source": [
    "# 1.14 - Beregn omkostningerne til James pr. ugen \n",
    "james_uge = timepris[:, 1] @ arbejdstid[1]\n",
    "james_uge"
   ]
  },
  {
   "cell_type": "markdown",
   "id": "a71cf5a4-6c85-478c-805d-69cd24f8363d",
   "metadata": {},
   "source": [
    "# 2 - Lineære Ligningssystemer"
   ]
  },
  {
   "cell_type": "markdown",
   "id": "0448b9b2-61d0-4c35-aa09-f399ea5917d1",
   "metadata": {},
   "source": [
    "I del 2 er fokus på løsning af lineære ligningssystemer.\n",
    "Vi kommer til at arbejde med række echelon form, løsning via invers matrix, samt bruge sympy til, at tjekke vores løsninger.\n",
    "\n",
    "I første del er i givet flg. lineære ligningssystem:\n",
    "\n",
    "$$2x + y - 2z = 3 \\\\ x - y - z = 0 \\\\ x + y + 3z = 12 $$\n",
    "\n",
    "Ligningssystemet kan også skrives som en matrix $A$ og to vektorer $\\overrightarrow{x}. \\overrightarrow{b}$:\n",
    "$$\\begin{bmatrix} 2 & 1 & -2 \\\\ 1 & -1 & -1 \\\\ 1 & 1 & 3 \\end{bmatrix} \\begin{bmatrix} x \\\\ y \\\\ z \\end{bmatrix} = \\begin{bmatrix} 3 \\\\ 0 \\\\ 12 \\end{bmatrix}$$.\n",
    "\n",
    "Eller som en augmented matrix:\n",
    "$$\n",
    "\\left[\\begin{array}{rrr|r}\n",
    "2 & 1 & -2 & 3 \\\\ \n",
    "1 & -1 & -1 & 0 \\\\\n",
    "1 & 1 & 3 & 12\n",
    "\\end{array}\\right]\n",
    "$$"
   ]
  },
  {
   "cell_type": "code",
   "execution_count": 7,
   "id": "943f22e9-cb41-465c-92bd-2dc62bd0a526",
   "metadata": {},
   "outputs": [],
   "source": [
    "# 2.1 - Definer ligningssystemet som matricen A og vektoren b\n",
    "A = np.array([[2, 1 , -2],\n",
    "             [1, -1, -1],\n",
    "             [1, 1, 3]])\n",
    "\n",
    "b = np.array([3, 0, 12])"
   ]
  },
  {
   "cell_type": "code",
   "execution_count": 8,
   "id": "0b4d37fb-a6ff-4187-8665-d7a68b50cf44",
   "metadata": {},
   "outputs": [
    {
     "name": "stdout",
     "output_type": "stream",
     "text": [
      "[[ 0.16666667  0.41666667  0.25      ]\n",
      " [ 0.33333333 -0.66666667 -0.        ]\n",
      " [-0.16666667  0.08333333  0.25      ]]\n"
     ]
    }
   ],
   "source": [
    "# 2.2 - Beregn den inverse matrix af A og gem den som en variable\n",
    "inv_A = np.linalg.inv(A)\n",
    "print(inv_A)"
   ]
  },
  {
   "cell_type": "code",
   "execution_count": 14,
   "id": "9ac0dbe0-84bd-4b12-9731-eaff1ddaa0a8",
   "metadata": {},
   "outputs": [
    {
     "data": {
      "text/plain": [
       "array([3.5, 1. , 2.5])"
      ]
     },
     "execution_count": 14,
     "metadata": {},
     "output_type": "execute_result"
    }
   ],
   "source": [
    "# 2.3 - Find løsningen til det lineære ligningssystem\n",
    "linalg.solve(A, b)"
   ]
  },
  {
   "cell_type": "markdown",
   "id": "3afd14f1-2167-42c5-b680-cd60e172b04f",
   "metadata": {},
   "source": [
    "I denne del er i givet flg. lineære ligningssystem:\n",
    "$$x_1 - 2x_2 + x_3 = 2 \\\\ 2x_1 - 4x_2 + 3x_3 = 7 \\\\ -x_1 + 2x_2 =1$$\n",
    "\n",
    "Ligningssystemet kan også skrives som en matrix og to vektorer:\n",
    "$$\\begin{bmatrix} 1 & -2 & 1 \\\\ 2 & -4 & 3 \\\\ -1 & 2 & 0 \\end{bmatrix} \\begin{bmatrix} x_1 \\\\ x_2 \\\\ x_3 \\end{bmatrix} = \\begin{bmatrix} 2 \\\\ 7 \\\\ 1 \\end{bmatrix} $$.\n",
    "\n",
    "Eller som en augmented matrix:\n",
    "$$\n",
    "\\left[\\begin{array}{rrr|r}\n",
    "1 & -2 & 1 & 2 \\\\ \n",
    "2 & -4 & 3 & 7 \\\\\n",
    "-1 & 2 & 0 & 1\n",
    "\\end{array}\\right]\n",
    "$$"
   ]
  },
  {
   "cell_type": "code",
   "execution_count": 15,
   "id": "cd19e25e-b351-4199-a884-7e17c64fa43a",
   "metadata": {},
   "outputs": [],
   "source": [
    "# 2.5 - Definer ligningssystemet som en augmented matrix\n",
    "A2 = np.array([\n",
    "    [1, -2, 1, 2],\n",
    "    [2, -4, 3, 7],\n",
    "    [-1, 2, 0, 1]\n",
    "])"
   ]
  },
  {
   "cell_type": "code",
   "execution_count": 16,
   "id": "8f6ca43a-adbc-4bd6-81ec-3f1fb948869b",
   "metadata": {},
   "outputs": [],
   "source": [
    "# 2.6 - Løs ligningssystemet ved at omskrive til række echelon form. \n",
    "A2[1] = A2[1] - 2 * A2[0]"
   ]
  },
  {
   "cell_type": "code",
   "execution_count": 18,
   "id": "fcb3d065-4b1b-4a7d-b167-547b27b3f772",
   "metadata": {
    "scrolled": true
   },
   "outputs": [
    {
     "data": {
      "text/plain": [
       "array([[ 1, -2,  1,  2],\n",
       "       [ 0,  0,  1,  3],\n",
       "       [-1,  2,  0,  1]])"
      ]
     },
     "execution_count": 18,
     "metadata": {},
     "output_type": "execute_result"
    }
   ],
   "source": [
    "A2"
   ]
  },
  {
   "cell_type": "code",
   "execution_count": 20,
   "id": "99f10337-a532-4cec-9bdb-d8f7ba1f3e8b",
   "metadata": {},
   "outputs": [
    {
     "data": {
      "text/plain": [
       "array([[ 1, -2,  1,  2],\n",
       "       [ 0,  0,  1,  3],\n",
       "       [ 1, -2,  2,  5]])"
      ]
     },
     "execution_count": 20,
     "metadata": {},
     "output_type": "execute_result"
    }
   ],
   "source": [
    "A2[2] = A2[2] + A2[0]\n",
    "A2"
   ]
  },
  {
   "cell_type": "markdown",
   "id": "5e377cbd-b08d-4ea2-80c9-7aebc6b241d7",
   "metadata": {},
   "source": [
    "*2.7 - Opskriv og test mindst én vallid løsning*\n",
    "Da de to "
   ]
  },
  {
   "cell_type": "code",
   "execution_count": 22,
   "id": "29011cb5-0b65-4934-af30-2ad86f0fb99c",
   "metadata": {},
   "outputs": [],
   "source": [
    "# 2.8 - Definer ligningssystemet som matricen A og vektoren b\n",
    "A = np.array([\n",
    "    [1, -2, 3],\n",
    "    [2, -4, 3],\n",
    "    [-1, 2, 0]\n",
    "])\n",
    "\n",
    "\n",
    "b = np.array([2, 7, 1])"
   ]
  },
  {
   "cell_type": "code",
   "execution_count": 23,
   "id": "6a5aec93-a23e-4a0c-ad3c-9ae804f106eb",
   "metadata": {},
   "outputs": [
    {
     "ename": "LinAlgError",
     "evalue": "Singular matrix",
     "output_type": "error",
     "traceback": [
      "\u001b[1;31m---------------------------------------------------------------------------\u001b[0m",
      "\u001b[1;31mLinAlgError\u001b[0m                               Traceback (most recent call last)",
      "\u001b[1;32mC:\\Users\\SEBAST~1\\AppData\\Local\\Temp/ipykernel_14308/1609577182.py\u001b[0m in \u001b[0;36m<module>\u001b[1;34m\u001b[0m\n\u001b[0;32m      1\u001b[0m \u001b[1;31m# 2.9 - Beregn løsningen til ligningssystemet vha. A^-1 (den inverse matrice af A)\u001b[0m\u001b[1;33m\u001b[0m\u001b[1;33m\u001b[0m\u001b[0m\n\u001b[1;32m----> 2\u001b[1;33m \u001b[0minv_A\u001b[0m \u001b[1;33m=\u001b[0m \u001b[0mnp\u001b[0m\u001b[1;33m.\u001b[0m\u001b[0mlinalg\u001b[0m\u001b[1;33m.\u001b[0m\u001b[0minv\u001b[0m\u001b[1;33m(\u001b[0m\u001b[0mA\u001b[0m\u001b[1;33m)\u001b[0m\u001b[1;33m\u001b[0m\u001b[1;33m\u001b[0m\u001b[0m\n\u001b[0m\u001b[0;32m      3\u001b[0m \u001b[0mprint\u001b[0m\u001b[1;33m(\u001b[0m\u001b[0minv_A\u001b[0m\u001b[1;33m)\u001b[0m\u001b[1;33m\u001b[0m\u001b[1;33m\u001b[0m\u001b[0m\n",
      "\u001b[1;32m<__array_function__ internals>\u001b[0m in \u001b[0;36minv\u001b[1;34m(*args, **kwargs)\u001b[0m\n",
      "\u001b[1;32m~\\Files and Documents\\AAU Social Data Science\\sds\\lib\\site-packages\\numpy\\linalg\\linalg.py\u001b[0m in \u001b[0;36minv\u001b[1;34m(a)\u001b[0m\n\u001b[0;32m    543\u001b[0m     \u001b[0msignature\u001b[0m \u001b[1;33m=\u001b[0m \u001b[1;34m'D->D'\u001b[0m \u001b[1;32mif\u001b[0m \u001b[0misComplexType\u001b[0m\u001b[1;33m(\u001b[0m\u001b[0mt\u001b[0m\u001b[1;33m)\u001b[0m \u001b[1;32melse\u001b[0m \u001b[1;34m'd->d'\u001b[0m\u001b[1;33m\u001b[0m\u001b[1;33m\u001b[0m\u001b[0m\n\u001b[0;32m    544\u001b[0m     \u001b[0mextobj\u001b[0m \u001b[1;33m=\u001b[0m \u001b[0mget_linalg_error_extobj\u001b[0m\u001b[1;33m(\u001b[0m\u001b[0m_raise_linalgerror_singular\u001b[0m\u001b[1;33m)\u001b[0m\u001b[1;33m\u001b[0m\u001b[1;33m\u001b[0m\u001b[0m\n\u001b[1;32m--> 545\u001b[1;33m     \u001b[0mainv\u001b[0m \u001b[1;33m=\u001b[0m \u001b[0m_umath_linalg\u001b[0m\u001b[1;33m.\u001b[0m\u001b[0minv\u001b[0m\u001b[1;33m(\u001b[0m\u001b[0ma\u001b[0m\u001b[1;33m,\u001b[0m \u001b[0msignature\u001b[0m\u001b[1;33m=\u001b[0m\u001b[0msignature\u001b[0m\u001b[1;33m,\u001b[0m \u001b[0mextobj\u001b[0m\u001b[1;33m=\u001b[0m\u001b[0mextobj\u001b[0m\u001b[1;33m)\u001b[0m\u001b[1;33m\u001b[0m\u001b[1;33m\u001b[0m\u001b[0m\n\u001b[0m\u001b[0;32m    546\u001b[0m     \u001b[1;32mreturn\u001b[0m \u001b[0mwrap\u001b[0m\u001b[1;33m(\u001b[0m\u001b[0mainv\u001b[0m\u001b[1;33m.\u001b[0m\u001b[0mastype\u001b[0m\u001b[1;33m(\u001b[0m\u001b[0mresult_t\u001b[0m\u001b[1;33m,\u001b[0m \u001b[0mcopy\u001b[0m\u001b[1;33m=\u001b[0m\u001b[1;32mFalse\u001b[0m\u001b[1;33m)\u001b[0m\u001b[1;33m)\u001b[0m\u001b[1;33m\u001b[0m\u001b[1;33m\u001b[0m\u001b[0m\n\u001b[0;32m    547\u001b[0m \u001b[1;33m\u001b[0m\u001b[0m\n",
      "\u001b[1;32m~\\Files and Documents\\AAU Social Data Science\\sds\\lib\\site-packages\\numpy\\linalg\\linalg.py\u001b[0m in \u001b[0;36m_raise_linalgerror_singular\u001b[1;34m(err, flag)\u001b[0m\n\u001b[0;32m     86\u001b[0m \u001b[1;33m\u001b[0m\u001b[0m\n\u001b[0;32m     87\u001b[0m \u001b[1;32mdef\u001b[0m \u001b[0m_raise_linalgerror_singular\u001b[0m\u001b[1;33m(\u001b[0m\u001b[0merr\u001b[0m\u001b[1;33m,\u001b[0m \u001b[0mflag\u001b[0m\u001b[1;33m)\u001b[0m\u001b[1;33m:\u001b[0m\u001b[1;33m\u001b[0m\u001b[1;33m\u001b[0m\u001b[0m\n\u001b[1;32m---> 88\u001b[1;33m     \u001b[1;32mraise\u001b[0m \u001b[0mLinAlgError\u001b[0m\u001b[1;33m(\u001b[0m\u001b[1;34m\"Singular matrix\"\u001b[0m\u001b[1;33m)\u001b[0m\u001b[1;33m\u001b[0m\u001b[1;33m\u001b[0m\u001b[0m\n\u001b[0m\u001b[0;32m     89\u001b[0m \u001b[1;33m\u001b[0m\u001b[0m\n\u001b[0;32m     90\u001b[0m \u001b[1;32mdef\u001b[0m \u001b[0m_raise_linalgerror_nonposdef\u001b[0m\u001b[1;33m(\u001b[0m\u001b[0merr\u001b[0m\u001b[1;33m,\u001b[0m \u001b[0mflag\u001b[0m\u001b[1;33m)\u001b[0m\u001b[1;33m:\u001b[0m\u001b[1;33m\u001b[0m\u001b[1;33m\u001b[0m\u001b[0m\n",
      "\u001b[1;31mLinAlgError\u001b[0m: Singular matrix"
     ]
    }
   ],
   "source": [
    "# 2.9 - Beregn løsningen til ligningssystemet vha. A^-1 (den inverse matrice af A)\n",
    "inv_A = np.linalg.inv(A)\n",
    "print(inv_A)"
   ]
  },
  {
   "cell_type": "markdown",
   "id": "7c6e60ce-245d-4bb7-886a-1fa97a406931",
   "metadata": {},
   "source": [
    "*2.10 - Hvilket resultat får vi vha. denne løsningsmetode?\n",
    "        Hvorfor får vi dette resultat?*"
   ]
  },
  {
   "cell_type": "markdown",
   "id": "cb34df43",
   "metadata": {},
   "source": [
    "Vi kan ikke beregne den inverse matrice $A^{-1}$ da det er en singular matrix. Det vil sige, at mindst én af de tre ligninger kan beskrives som en lineær transformation af de andre.\n",
    "Derfor kan vi ikke finde en enkelt løsning, men har derimod uendeligt mange løsninger.\n",
    "Disse løsninger kan så beskrives ud fra nedenstående ligning. "
   ]
  },
  {
   "cell_type": "code",
   "execution_count": 21,
   "id": "d657e9c7-b05d-40d8-a727-f3ac8659d2b5",
   "metadata": {},
   "outputs": [
    {
     "data": {
      "text/latex": [
       "$\\displaystyle \\left\\{\\left( 2 y - 1, \\  y, \\  3\\right)\\right\\}$"
      ],
      "text/plain": [
       "{(2*y - 1, y, 3)}"
      ]
     },
     "execution_count": 21,
     "metadata": {},
     "output_type": "execute_result"
    }
   ],
   "source": [
    "# 2.9 - Check løsningen vha. sympy\n",
    "\n",
    "from sympy import * #importer alt fra Sympy\n",
    "from sympy.solvers.solveset import linsolve #importer linalg solver\n",
    "\n",
    "x, y, z = symbols('x, y, z') #definer vores symboler\n",
    "\n",
    "linsolve(Matrix(A2), (x, y, z)) #definer matrix og hvad der skal løses"
   ]
  },
  {
   "cell_type": "markdown",
   "id": "7709b08d-1405-49c7-9f4f-30450641ade6",
   "metadata": {},
   "source": [
    "*2.10 - Hvad fortæller løsningen os om ligningssystemet?*"
   ]
  }
 ],
 "metadata": {
  "kernelspec": {
   "display_name": "Python 3 (ipykernel)",
   "language": "python",
   "name": "python3"
  },
  "language_info": {
   "codemirror_mode": {
    "name": "ipython",
    "version": 3
   },
   "file_extension": ".py",
   "mimetype": "text/x-python",
   "name": "python",
   "nbconvert_exporter": "python",
   "pygments_lexer": "ipython3",
   "version": "3.9.7"
  }
 },
 "nbformat": 4,
 "nbformat_minor": 5
}
